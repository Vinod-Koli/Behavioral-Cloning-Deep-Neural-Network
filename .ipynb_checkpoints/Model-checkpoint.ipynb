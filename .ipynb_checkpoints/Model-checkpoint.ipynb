{
 "cells": [
  {
   "cell_type": "markdown",
   "metadata": {},
   "source": [
    "## 0. House Keeping Functions"
   ]
  },
  {
   "cell_type": "code",
   "execution_count": 18,
   "metadata": {},
   "outputs": [],
   "source": [
    "import csv\n",
    "from scipy import ndimage\n",
    "\n",
    "samples = []\n",
    "\n",
    "# Assuming that DataSet are already downloaded\n",
    "def prepare_samples(datasetpath):\n",
    "    with open(datasetpath + '/driving_log.csv') as csvfile:\n",
    "        reader = csv.reader(csvfile)\n",
    "        # Skip first row\n",
    "        next(reader, None)\n",
    "        for line in reader:\n",
    "            # Update the image paths\n",
    "            image_path = datasetpath + '/IMG/' + line[0].split('/')[-1]\n",
    "            line[0] = image_path\n",
    "            image_path = datasetpath + '/IMG/' + line[1].split('/')[-1]\n",
    "            line[1] = image_path\n",
    "            image_path = datasetpath + '/IMG/' + line[2].split('/')[-1]\n",
    "            line[2] = image_path\n",
    "            samples.append(line)\n"
   ]
  },
  {
   "cell_type": "markdown",
   "metadata": {},
   "source": [
    "## 1. Prepare Samples "
   ]
  },
  {
   "cell_type": "code",
   "execution_count": 19,
   "metadata": {},
   "outputs": [],
   "source": [
    "import numpy as np\n",
    "\n",
    "# Reset the list\n",
    "samples.clear()\n",
    "\n",
    "# Extract training data\n",
    "prepare_samples('Data/DataSet1')\n",
    "prepare_samples('Data/DataSet2')\n",
    "prepare_samples('Data/DataSet3')\n",
    "prepare_samples('Data/DataSet4')"
   ]
  },
  {
   "cell_type": "markdown",
   "metadata": {},
   "source": [
    "## 2. Split Samples into '_Training Set_' & '_Validation Set_'"
   ]
  },
  {
   "cell_type": "code",
   "execution_count": 20,
   "metadata": {},
   "outputs": [],
   "source": [
    "from sklearn.model_selection import train_test_split\n",
    "\n",
    "# 80% training set and 20% validation set\n",
    "Sample_train, Sample_valid = train_test_split(samples, test_size = 0.2)\n"
   ]
  },
  {
   "cell_type": "markdown",
   "metadata": {},
   "source": [
    "## 3. Define Generator"
   ]
  },
  {
   "cell_type": "code",
   "execution_count": 21,
   "metadata": {},
   "outputs": [],
   "source": [
    "import matplotlib.pyplot as plt\n",
    "import sklearn    \n",
    "\n",
    "def generator(samples, batch_size=32):\n",
    "    num_samples = len(samples)\n",
    "    \n",
    "    while 1:  # Loop forever so the generator never terminates\n",
    "        for offset in range(0, num_samples, batch_size):\n",
    "            batch_samples = samples[offset:offset+batch_size]\n",
    "            \n",
    "            images = []\n",
    "            angles = []\n",
    "            \n",
    "            for batch_sample in batch_samples:\n",
    "                \n",
    "                steer_angle = float(batch_sample[3])\n",
    "                ########## Center Image ##########\n",
    "                image = plt.imread(batch_sample[0])\n",
    "                images.append(image)\n",
    "                angles.append(steer_angle)\n",
    "\n",
    "                # Flip the image\n",
    "                images.append(np.flipud(image))\n",
    "                angles.append(float( steer_angle * (-1.0) ))\n",
    "                \n",
    "                \n",
    "                ########## left Image ##########\n",
    "                image = plt.imread(batch_sample[1])\n",
    "                images.append(image)\n",
    "                angles.append(steer_angle + 0.2)\n",
    "\n",
    "                # Flip the image\n",
    "                images.append(np.flipud(image))\n",
    "                angles.append(float( (steer_angle + 0.2) * (-1) ))\n",
    "                \n",
    "                \n",
    "                ########## Right Image ##########\n",
    "                image = plt.imread(batch_sample[2])\n",
    "                images.append(image)\n",
    "                angles.append(steer_angle - 0.2)\n",
    "                            \n",
    "                # Flip the image\n",
    "                images.append(np.flipud(image))\n",
    "                angles.append(float( (steer_angle - 0.2) * (-1) ))\n",
    "            \n",
    "            X_train = np.array(images)\n",
    "            y_train = np.array(angles)\n",
    "            \n",
    "            yield sklearn.utils.shuffle(X_train, y_train)\n",
    "            \n",
    "            \n",
    "            \n",
    "# compile and train the model using the generator function\n",
    "train_generator = generator(Sample_train, batch_size=32)\n",
    "validation_generator = generator(Sample_valid, batch_size=32)"
   ]
  },
  {
   "cell_type": "markdown",
   "metadata": {},
   "source": [
    "## 4. Define A Model Using Keras"
   ]
  },
  {
   "cell_type": "code",
   "execution_count": 22,
   "metadata": {},
   "outputs": [],
   "source": [
    "import keras\n",
    "import tensorflow as tf\n",
    "\n",
    "config = tf.ConfigProto( device_count = {'GPU': 1 , 'CPU': 6} ) \n",
    "sess = tf.Session(config=config) \n",
    "keras.backend.set_session(sess)"
   ]
  },
  {
   "cell_type": "code",
   "execution_count": 23,
   "metadata": {},
   "outputs": [],
   "source": [
    "from keras.models import Sequential\n",
    "from keras.layers.core import Dense, Flatten, Activation, Dropout\n",
    "from keras.layers.convolutional import Conv2D\n",
    "from keras.layers import Lambda, Cropping2D\n",
    "\n",
    "model = Sequential()\n",
    "\n",
    "# Normalize the data\n",
    "model.add(Lambda(lambda x: (x / 255.0) - 0.5, input_shape=(160,320,3)))\n",
    "\n",
    "# trim image to only see section with road\n",
    "model.add(Cropping2D( cropping=((70,25),(0,0)) ) )\n",
    "\n",
    "# Convolutional Layer 1\n",
    "model.add(Conv2D(filters=24, kernel_size=5, strides=(2, 2), activation='relu'))\n",
    "\n",
    "# Convolutional Layer 2\n",
    "model.add(Conv2D(filters=36, kernel_size=5, strides=(2, 2), activation='relu'))\n",
    "\n",
    "# Convolutional Layer 3\n",
    "model.add(Conv2D(filters=48, kernel_size=5, strides=(2, 2), activation='relu'))\n",
    "\n",
    "# Convolutional Layer 4\n",
    "model.add(Conv2D(filters=64, kernel_size=3, strides=(1, 1), activation='relu'))\n",
    "\n",
    "# Convolutional Layer 5\n",
    "model.add(Conv2D(filters=64, kernel_size=3, strides=(1, 1), activation='relu'))\n",
    "\n",
    "model.add(Flatten())\n",
    "\n",
    "model.add(Dense(100))\n",
    "model.add(Activation('relu'))\n",
    "\n",
    "model.add(Dense(50))\n",
    "model.add(Activation('relu'))\n",
    "\n",
    "model.add(Dense(10))\n",
    "model.add(Activation('relu'))\n",
    "\n",
    "model.add(Dense(1))\n",
    "\n",
    "# Specify loss function and the optimizer for training\n",
    "# we have used 'adam' optimizer with 'mean squared error' loss function\n",
    "model.compile(loss='mse', optimizer='adam')\n"
   ]
  },
  {
   "cell_type": "markdown",
   "metadata": {},
   "source": [
    "## 4. Train the model"
   ]
  },
  {
   "cell_type": "code",
   "execution_count": 24,
   "metadata": {},
   "outputs": [
    {
     "name": "stdout",
     "output_type": "stream",
     "text": [
      "Epoch 1/5\n",
      "329/329 [==============================] - 64s - loss: 0.0220 - val_loss: 0.0158\n",
      "Epoch 2/5\n",
      "329/329 [==============================] - 64s - loss: 0.0153 - val_loss: 0.0136\n",
      "Epoch 3/5\n",
      "329/329 [==============================] - 63s - loss: 0.0127 - val_loss: 0.0121\n",
      "Epoch 4/5\n",
      "329/329 [==============================] - 63s - loss: 0.0112 - val_loss: 0.0111\n",
      "Epoch 5/5\n",
      "329/329 [==============================] - 63s - loss: 0.0102 - val_loss: 0.0109\n",
      "Model Saved!\n",
      "_________________________________________________________________\n",
      "Layer (type)                 Output Shape              Param #   \n",
      "=================================================================\n",
      "lambda_3 (Lambda)            (None, 160, 320, 3)       0         \n",
      "_________________________________________________________________\n",
      "cropping2d_3 (Cropping2D)    (None, 65, 320, 3)        0         \n",
      "_________________________________________________________________\n",
      "conv2d_11 (Conv2D)           (None, 31, 158, 24)       1824      \n",
      "_________________________________________________________________\n",
      "conv2d_12 (Conv2D)           (None, 14, 77, 36)        21636     \n",
      "_________________________________________________________________\n",
      "conv2d_13 (Conv2D)           (None, 5, 37, 48)         43248     \n",
      "_________________________________________________________________\n",
      "conv2d_14 (Conv2D)           (None, 3, 35, 64)         27712     \n",
      "_________________________________________________________________\n",
      "conv2d_15 (Conv2D)           (None, 1, 33, 64)         36928     \n",
      "_________________________________________________________________\n",
      "flatten_3 (Flatten)          (None, 2112)              0         \n",
      "_________________________________________________________________\n",
      "dense_9 (Dense)              (None, 100)               211300    \n",
      "_________________________________________________________________\n",
      "activation_7 (Activation)    (None, 100)               0         \n",
      "_________________________________________________________________\n",
      "dense_10 (Dense)             (None, 50)                5050      \n",
      "_________________________________________________________________\n",
      "activation_8 (Activation)    (None, 50)                0         \n",
      "_________________________________________________________________\n",
      "dense_11 (Dense)             (None, 10)                510       \n",
      "_________________________________________________________________\n",
      "activation_9 (Activation)    (None, 10)                0         \n",
      "_________________________________________________________________\n",
      "dense_12 (Dense)             (None, 1)                 11        \n",
      "=================================================================\n",
      "Total params: 348,219\n",
      "Trainable params: 348,219\n",
      "Non-trainable params: 0\n",
      "_________________________________________________________________\n"
     ]
    }
   ],
   "source": [
    "import math\n",
    "\n",
    "batch_size = 32\n",
    "\n",
    "model.fit_generator(train_generator, steps_per_epoch=math.ceil(len(Sample_train)/batch_size), validation_data=validation_generator, validation_steps=math.ceil(len(Sample_valid)/batch_size), epochs=5, verbose=1)\n",
    "\n",
    "# Save the model\n",
    "model.save('model.h5')\n",
    "\n",
    "print('Model Saved!')\n",
    "\n",
    "# Print the model summary\n",
    "model.summary()"
   ]
  },
  {
   "cell_type": "code",
   "execution_count": null,
   "metadata": {},
   "outputs": [],
   "source": []
  }
 ],
 "metadata": {
  "kernelspec": {
   "display_name": "Python 3",
   "language": "python",
   "name": "python3"
  },
  "language_info": {
   "codemirror_mode": {
    "name": "ipython",
    "version": 3
   },
   "file_extension": ".py",
   "mimetype": "text/x-python",
   "name": "python",
   "nbconvert_exporter": "python",
   "pygments_lexer": "ipython3",
   "version": "3.5.2"
  },
  "widgets": {
   "state": {},
   "version": "1.1.2"
  }
 },
 "nbformat": 4,
 "nbformat_minor": 2
}
